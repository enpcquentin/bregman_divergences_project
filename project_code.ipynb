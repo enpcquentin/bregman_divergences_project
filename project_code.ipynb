{
 "cells": [
  {
   "cell_type": "markdown",
   "metadata": {},
   "source": [
    "# Optimization with Bregman Divergences : Project\n",
    "## Duchemin Quentin"
   ]
  },
  {
   "cell_type": "markdown",
   "metadata": {},
   "source": [
    "# 1) RL algorithms using KL divergence as approximation of Mirror Descent algorithm"
   ]
  },
  {
   "cell_type": "code",
   "execution_count": 1,
   "metadata": {},
   "outputs": [],
   "source": [
    "import numpy as np\n",
    "import matplotlib.pyplot as plt\n",
    "from tqdm import tqdm\n",
    "\n",
    "from renderer import *\n",
    "from gridworld import *\n",
    "\n",
    "import scipy\n",
    "import scipy.optimize as opt\n",
    "import pdb"
   ]
  },
  {
   "cell_type": "code",
   "execution_count": 2,
   "metadata": {},
   "outputs": [],
   "source": [
    "grid1 = [\n",
    "    ['', '', '', 1],\n",
    "    ['', 'x', '', -1],\n",
    "    ['', '', '', '']\n",
    "]\n",
    "\n",
    "env = GridWorld(gamma=0.95, grid=grid1)"
   ]
  },
  {
   "cell_type": "code",
   "execution_count": 3,
   "metadata": {},
   "outputs": [],
   "source": [
    "class Policy(object):\n",
    "    def __init__(self,pi):\n",
    "        n_states,n_actions = np.shape(pi)\n",
    "        self.n_actions = n_actions\n",
    "        self.n_states = n_states\n",
    "        self.pi = pi\n",
    "    def draw_action(self,state):\n",
    "        u = np.random.rand()\n",
    "        probas = np.cumsum(self.pi[state,:])\n",
    "        a = 0\n",
    "        while (a < self.n_actions-1 and (u > probas[a] or self.pi[state,a]==0)):\n",
    "            a += 1\n",
    "        return a"
   ]
  },
  {
   "cell_type": "code",
   "execution_count": 4,
   "metadata": {},
   "outputs": [],
   "source": [
    "class RLModel:\n",
    "    def __init__(self, env):\n",
    "        self.env = env\n",
    "        \n",
    "    def initialize_pi(self):\n",
    "        pi = np.zeros((self.env.n_states,self.env.n_actions))\n",
    "        for s in range(self.env.n_states):\n",
    "            actions = self.env.state_actions[s]\n",
    "            for a in actions:\n",
    "                pi[s,a] = 1./len(actions)\n",
    "        return pi\n",
    "    \n",
    "    def collect_episodes(self, policy=None, horizon=None, n_episodes=1, render=False):\n",
    "        paths = []\n",
    "\n",
    "        for _ in range(n_episodes):\n",
    "            observations = []\n",
    "            actions = []\n",
    "            rewards = []\n",
    "            next_states = []\n",
    "            ep_r = 0\n",
    "            state = self.env.reset()\n",
    "            for _ in range(horizon):\n",
    "                action = policy.draw_action(state)\n",
    "                next_state, reward, terminal = self.env.step(state,action)\n",
    "                ep_r += reward\n",
    "                if render:\n",
    "                    self.env.render()\n",
    "                observations.append(state)\n",
    "                actions.append(action)\n",
    "                rewards.append(reward)\n",
    "                next_states.append(next_state)\n",
    "                state = copy.copy(next_state)\n",
    "                if terminal:\n",
    "                    if len(self.moving_rewards) == 0:  # record running episode reward\n",
    "                        self.moving_rewards.append(ep_r)\n",
    "                    else:\n",
    "                        self.moving_rewards.append(0.9 * self.moving_rewards[-1] + 0.1 * ep_r)\n",
    "                    # Finish rollout if terminal state reached\n",
    "                    break\n",
    "                    # We need to compute the empirical return for each time step along the\n",
    "                    # trajectory\n",
    "            paths.append(dict(\n",
    "                states=np.array(observations),\n",
    "                actions=np.array(actions),\n",
    "                rewards=np.array(rewards),\n",
    "                next_states=np.array(next_states)\n",
    "            ))\n",
    "        return paths\n",
    "\n",
    "    \n",
    "    def render_policy(self):\n",
    "        render_policy(self.env,self.policy.pi)"
   ]
  },
  {
   "cell_type": "markdown",
   "metadata": {},
   "source": [
    "## a) REPS algorithm"
   ]
  },
  {
   "cell_type": "code",
   "execution_count": 5,
   "metadata": {},
   "outputs": [],
   "source": [
    "class REPS(RLModel):\n",
    "    def __init__(self, env, p=3, N=100,K=50,eta=0.1):\n",
    "        RLModel.__init__(self, env)\n",
    "        self.p = p\n",
    "        self.N = N\n",
    "        self.K = K\n",
    "        self.eta = eta\n",
    "        self.moving_rewards = []\n",
    "    \n",
    "    def compute_new_policy(self, eta, policy, phi, theta, samples):\n",
    "        log_new_pi = np.zeros((policy.n_states,policy.n_actions))\n",
    "        A = np.zeros((policy.n_states,policy.n_actions))\n",
    "        counter = np.zeros((policy.n_states,policy.n_actions))\n",
    "        nb_samples = 0\n",
    "        for i in range(len(samples)):\n",
    "            states = samples[i]['states']\n",
    "            actions = samples[i]['actions']\n",
    "            rewards = samples[i]['rewards']\n",
    "            next_states = samples[i]['next_states']\n",
    "\n",
    "            for j in range(len(states)):\n",
    "                A[states[j],actions[j]] += rewards[j] + np.dot(phi[next_states[j],:],theta) - np.dot(phi[states[j],:],theta)\n",
    "                counter[states[j],actions[j]] += 1\n",
    "                nb_samples += 1\n",
    "        for s in range(env.n_states):\n",
    "            for a in range(env.n_actions):\n",
    "                if counter[s,a]!=0:\n",
    "                    A[s,a] /= counter[s,a]\n",
    "        for s in range(policy.n_states):\n",
    "            for a in range(policy.n_actions):\n",
    "                argexpo = np.zeros(policy.n_actions)\n",
    "                if policy.pi[s,a] == 0:\n",
    "                    log_new_pi[s,a] = -float('inf')\n",
    "                else:\n",
    "                    for b in range(policy.n_actions):\n",
    "                        argexpo[b] = np.log(policy.pi[s,b]+0.0001) + eta * A[s,b]\n",
    "                    maxi = np.max(argexpo)\n",
    "                    log_new_pi[s,a] = argexpo[a] - np.log(np.sum(np.exp(argexpo - maxi))) - maxi\n",
    "        return(Policy(np.exp(log_new_pi)))\n",
    "\n",
    "\n",
    "    def g(self, theta, eta, phi, samples):\n",
    "        res = 0\n",
    "        A = np.zeros((env.n_states,env.n_actions))\n",
    "        counter = np.zeros((env.n_states,env.n_actions))\n",
    "        nb_samples = 0\n",
    "        for i in range(len(samples)):\n",
    "            states = samples[i]['states']\n",
    "            actions = samples[i]['actions']\n",
    "            rewards = samples[i]['rewards']\n",
    "            next_states = samples[i]['next_states']\n",
    "\n",
    "            for j in range(len(states)):\n",
    "                A[states[j],actions[j]] += rewards[j] + np.dot(phi[next_states[j],:],theta) - np.dot(phi[states[j],:],theta)\n",
    "                counter[states[j],actions[j]] += 1\n",
    "                nb_samples += 1\n",
    "        for s in range(env.n_states):\n",
    "            for a in range(env.n_actions):\n",
    "                if counter[s,a]!=0:\n",
    "                    A[s,a] /= counter[s,a]\n",
    "        for i in range(len(samples)):\n",
    "            states = samples[i]['states']\n",
    "            actions = samples[i]['actions']\n",
    "            for j in range(len(states)):\n",
    "                res += np.exp(eta*A[states[j],actions[j]])\n",
    "        res /= nb_samples\n",
    "        return (np.log(res)/eta)\n",
    "\n",
    "    def Dg(self, theta, eta, phi, samples):\n",
    "        n_states,p = np.shape(phi)\n",
    "        numerator = 0\n",
    "        denominator = 0\n",
    "        A = np.zeros((env.n_states,env.n_actions))\n",
    "        D = np.zeros((env.n_states,env.n_actions,p))\n",
    "        counter = np.zeros((env.n_states,env.n_actions))\n",
    "        for i in range(len(samples)):\n",
    "            states = samples[i]['states']\n",
    "            actions = samples[i]['actions']\n",
    "            rewards = samples[i]['rewards']\n",
    "            next_states = samples[i]['next_states']\n",
    "\n",
    "            for j in range(len(states)):\n",
    "                A[states[j],actions[j]] += rewards[j] + np.dot(phi[next_states[j],:],theta) - np.dot(phi[states[j],:],theta)\n",
    "                D[states[j],actions[j],:] += phi[next_states[j],:] - phi[states[j],:]\n",
    "                counter[states[j],actions[j]] += 1\n",
    "        for s in range(env.n_states):\n",
    "            for a in range(env.n_actions):\n",
    "                if counter[s,a]!=0:\n",
    "                    A[s,a] /= counter[s,a]\n",
    "        for s in range(env.n_states):\n",
    "            for a in range(env.n_actions):\n",
    "                if counter[s,a]!=0:\n",
    "                    D[s,a,:] /= counter[s,a]\n",
    "        for i in range(len(samples)):\n",
    "            states = samples[i]['states']\n",
    "            actions = samples[i]['actions']\n",
    "            for j in range(len(states)):\n",
    "                numerator += np.exp(eta*A[states[j],actions[j]]) * D[states[j],actions[j]]\n",
    "                denominator += np.exp(eta*A[states[j],actions[j]])\n",
    "        return ((1/eta) * numerator / denominator)\n",
    "\n",
    "    def compute_phi(self,p):\n",
    "        phi = np.zeros((self.env.n_states,p))\n",
    "        for k in range(self.env.n_states):\n",
    "            phi[k,:] = [k,k**2,np.log(k+1)]\n",
    "        return phi\n",
    "\n",
    "    def policy_update(self):\n",
    "        \"\"\"Relative Entropy Policy Search using Mirror Descent\"\"\"\n",
    "        p = 3    \n",
    "        # initialization of the distribution\n",
    "        pi = self.initialize_pi()\n",
    "        policy = Policy(pi)\n",
    "        #Tmax =  -100*np.log(10e-6)/(1-env.gamma)\n",
    "        T = 100\n",
    "        theta = [0 for i in range(p)]\n",
    "        phi = self.compute_phi(p)\n",
    "        \n",
    "        for k in tqdm(range(self.K), desc=\"Iterating REPS algorithm...\"):\n",
    "            ##### SAMPLING\n",
    "            samples = self.collect_episodes(policy=policy,horizon=T,n_episodes=self.N)\n",
    "\n",
    "            #### OPTIMIZE\n",
    "            theta = opt.fmin_bfgs(self.g,x0=theta,fprime=self.Dg,args=(self.eta,phi,samples), disp=0)\n",
    "\n",
    "            #### COMPUTE THE NEW POLICY\n",
    "            policy = self.compute_new_policy(self.eta,policy,phi,theta,samples) \n",
    "            \n",
    "            \n",
    "        self.policy = policy\n",
    "        self.theta = theta\n",
    "        self.phi = phi"
   ]
  },
  {
   "cell_type": "code",
   "execution_count": 6,
   "metadata": {},
   "outputs": [
    {
     "name": "stderr",
     "output_type": "stream",
     "text": [
      "Iterating REPS algorithm...: 100%|███████████████████████████████████████████████████| 100/100 [24:09<00:00, 16.56s/it]\n"
     ]
    }
   ],
   "source": [
    "REPS_model = REPS(env,K=100)\n",
    "REPS_model.policy_update()"
   ]
  },
  {
   "cell_type": "code",
   "execution_count": 7,
   "metadata": {},
   "outputs": [
    {
     "data": {
      "image/png": "[encoded data removed]",
      "text/plain": [
       "<Figure size 432x288 with 1 Axes>"
      ]
     },
     "metadata": {
      "needs_background": "light"
     },
     "output_type": "display_data"
    }
   ],
   "source": [
    "avg_moving_reward = REPS_model.moving_rewards\n",
    "plt.plot(np.arange(len(avg_moving_reward)), avg_moving_reward)\n",
    "plt.xlabel('Step')\n",
    "plt.ylabel('Total moving reward')\n",
    "plt.show()"
   ]
  },
  {
   "cell_type": "code",
   "execution_count": 8,
   "metadata": {},
   "outputs": [],
   "source": [
    "REPS_model.render_policy()"
   ]
  },
  {
   "cell_type": "markdown",
   "metadata": {},
   "source": [
    "## b) TRPO algorithm"
   ]
  },
  {
   "cell_type": "code",
   "execution_count": 9,
   "metadata": {},
   "outputs": [],
   "source": [
    "class TRPO(RLModel):\n",
    "    def __init__(self, env, K=200, N = 100, eta=0.1):\n",
    "        RLModel.__init__(self, env)\n",
    "        self.K = K\n",
    "        self.N = N\n",
    "        self.eta = eta\n",
    "        self.moving_rewards = []\n",
    "\n",
    "    def compute_Q(self, samples, Q):\n",
    "        n_states,n_actions = np.shape(Q)\n",
    "        counter = np.zeros((n_states,n_actions))\n",
    "        for i in range(len(samples)):\n",
    "            states = samples[i]['states']\n",
    "            actions = samples[i]['actions']\n",
    "            rewards = samples[i]['rewards']\n",
    "            next_states = samples[i]['next_states']\n",
    "\n",
    "            cumulated_rwd = 0\n",
    "            for j in range(len(states)):\n",
    "                t = len(states) -1 - j\n",
    "                cumulated_rwd = self.env.gamma * cumulated_rwd + rewards[t]\n",
    "                Q[states[t],actions[t]] += cumulated_rwd\n",
    "                counter[states[t],actions[t]] += 1\n",
    "\n",
    "        for s in range(n_states):\n",
    "            for a in range(n_actions):\n",
    "                if counter[s,a]!=0:\n",
    "                    Q[s,a] /= counter[s,a]\n",
    "        return Q\n",
    "\n",
    "\n",
    "    def compute_value_function(self, Q, pi):\n",
    "        n_states,n_actions = np.shape(Q)\n",
    "        V = np.zeros(n_states)\n",
    "        for s in range(n_states):\n",
    "            for a in range(n_actions):\n",
    "                V[s] += pi[s,a] * Q[s,a]\n",
    "        return V\n",
    "\n",
    "    def compute_advantage_function(self, pi, V, samples):\n",
    "        n_states, n_actions = np.shape(pi)\n",
    "        A = np.zeros((n_states,n_actions))\n",
    "        counter = np.zeros((n_states,n_actions))\n",
    "\n",
    "        for i in range(len(samples)):\n",
    "            states = samples[i]['states']\n",
    "            actions = samples[i]['actions']\n",
    "            rewards = samples[i]['rewards']\n",
    "            next_states = samples[i]['next_states']\n",
    "\n",
    "            for j in range(len(states)):\n",
    "                A[states[j],actions[j]] += rewards[j] + V[next_states[j]] - V[states[j]]\n",
    "                counter[states[j],actions[j]] += 1\n",
    "\n",
    "        for s in range(n_states):\n",
    "            for a in range(n_actions):\n",
    "                if counter[s,a]!=0:\n",
    "                    A[s,a] /= counter[s,a]\n",
    "        return A\n",
    "\n",
    "    def update_pi(self, pi, A):\n",
    "        n_states,n_actions = np.shape(pi)\n",
    "        for s in range(n_states):\n",
    "            for a in range(n_actions):\n",
    "                pi[s,a] *= np.exp(self.eta * A[s,a]) \n",
    "            pi[s,:] /= np.sum(pi[s,:])\n",
    "        return(pi)\n",
    "\n",
    "\n",
    "    def policy_update(self):\n",
    "        pi = self.initialize_pi()\n",
    "        A = np.ones((env.n_states,env.n_actions))\n",
    "        Q = np.ones((env.n_states,env.n_actions))\n",
    "        V = np.ones(env.n_states)\n",
    "        T = 100\n",
    "        for k in tqdm(range(self.K), desc=\"Iterating TRPO algorithm...\"):\n",
    "            policy = Policy(pi)\n",
    "            ##### SAMPLING\n",
    "            samples = self.collect_episodes(policy=policy,horizon=T,n_episodes=self.N)  \n",
    "\n",
    "            #### COMPUTE Q FUNCTION\n",
    "            Q = self.compute_Q(samples,Q)\n",
    "\n",
    "            #### COMPUTE VALUE FUNCTION\n",
    "            V = self.compute_value_function(Q,pi)\n",
    "\n",
    "            #### COMPUTE ADVANTAGE FUNCTION\n",
    "            A = self.compute_advantage_function(pi,V,samples)\n",
    "\n",
    "            #### COMPUTE THE NEW POLICY\n",
    "            pi = self.update_pi(pi, A)  \n",
    "            \n",
    "        self.policy = Policy(pi)\n",
    "        self.A = A\n",
    "        self.V = V\n",
    "        self.Q = Q\n",
    "        "
   ]
  },
  {
   "cell_type": "code",
   "execution_count": 10,
   "metadata": {},
   "outputs": [
    {
     "name": "stderr",
     "output_type": "stream",
     "text": [
      "Iterating TRPO algorithm...: 100%|███████████████████████████████████████████████████| 200/200 [00:05<00:00, 38.92it/s]\n"
     ]
    }
   ],
   "source": [
    "TRPO_model = TRPO(env)\n",
    "TRPO_model.policy_update()"
   ]
  },
  {
   "cell_type": "code",
   "execution_count": 11,
   "metadata": {},
   "outputs": [
    {
     "data": {
      "image/png": "[encoded data removed]",
      "text/plain": [
       "<Figure size 432x288 with 1 Axes>"
      ]
     },
     "metadata": {
      "needs_background": "light"
     },
     "output_type": "display_data"
    }
   ],
   "source": [
    "avg_moving_reward = TRPO_model.moving_rewards\n",
    "plt.plot(np.arange(len(avg_moving_reward)), avg_moving_reward)\n",
    "plt.xlabel('Step')\n",
    "plt.ylabel('Total moving reward')\n",
    "plt.show()"
   ]
  },
  {
   "cell_type": "markdown",
   "metadata": {},
   "source": [
    "# 2) NMF"
   ]
  },
  {
   "cell_type": "code",
   "execution_count": 12,
   "metadata": {},
   "outputs": [],
   "source": [
    "import time"
   ]
  },
  {
   "cell_type": "markdown",
   "metadata": {},
   "source": [
    "## a) ADMM"
   ]
  },
  {
   "cell_type": "code",
   "execution_count": 13,
   "metadata": {},
   "outputs": [],
   "source": [
    "def threshold(M,t=0):\n",
    "    d,q = np.shape(M)\n",
    "    for i in range(d):\n",
    "        for j in range(q):\n",
    "            M[i,j] = max(M[i,j],t)\n",
    "    return M\n",
    "    \n",
    "\n",
    "def nmf_admm_KL(V,W,H,rho,N):\n",
    "    t_begin = time.time()\n",
    "    objectif = np.zeros(N)\n",
    "    times = np.zeros(N)\n",
    "    eps = 1e-5\n",
    "    \n",
    "    m,n = np.shape(V)\n",
    "    _,k = np.shape(W)\n",
    "        \n",
    "    X = np.dot(W,H)\n",
    "    Wp = W\n",
    "    Hp = H\n",
    "    alphaX = np.zeros(np.shape(X))\n",
    "    alphaW = np.zeros(np.shape(W))\n",
    "    alphaH = np.zeros(np.shape(H))\n",
    "    \n",
    "    for i in range(N):\n",
    "        # update H\n",
    "        H = np.dot(np.linalg.inv(np.dot(np.transpose(W),W)+np.eye(k)),np.dot(np.transpose(W),X)\n",
    "                   + Hp + (1/rho)*( np.dot(np.transpose(W),alphaX)-alphaH ) )\n",
    "        \n",
    "        # update W\n",
    "        A = np.dot(H,np.transpose(H)) + np.eye(k)\n",
    "        B = np.dot(H,np.transpose(X)) + np.transpose(Wp) + (1/rho)*(np.dot(H,np.transpose(alphaX))-np.transpose(alphaW) )\n",
    "        W = np.transpose( np.dot( np.linalg.inv(A) , B))\n",
    "        \n",
    "        # update X\n",
    "        b = rho * np.dot(W,H) - alphaX - 1\n",
    "        X = (b + np.sqrt(b**2 + 4 *rho*V))/(2*rho)\n",
    "        \n",
    "        # update for H+ and W+\n",
    "        Hp = threshold(H + (1/rho)*alphaH,0)\n",
    "        Wp = threshold(W + (1/rho)*alphaW,0)\n",
    "        \n",
    "        # update dual variables\n",
    "        alphaX += rho*(X-np.dot(W,H))\n",
    "        alphaH += rho*(H-Hp)\n",
    "        alphaW += rho*(W-Wp)\n",
    "        \n",
    "        objectif[i] = np.sum(-V*(np.log((np.dot(Wp,Hp)+eps) / (V+eps))+1) + np.dot(Wp,Hp))\n",
    "        times[i] = time.time() - t_begin\n",
    "\n",
    "    return(Wp, Hp, objectif, times)"
   ]
  },
  {
   "cell_type": "markdown",
   "metadata": {},
   "source": [
    "## b) MUA"
   ]
  },
  {
   "cell_type": "code",
   "execution_count": 14,
   "metadata": {},
   "outputs": [],
   "source": [
    "def nmf_mua_KL(V, W, H, N):\n",
    "    t_begin = time.time()\n",
    "    objectif = np.zeros(N)\n",
    "    times = np.zeros(N)\n",
    "    eps = 1e-5\n",
    "    \n",
    "    m,n = np.shape(V)\n",
    "    _,k = np.shape(W)\n",
    "    \n",
    "    for i in range(N):\n",
    "        Hsumtemp = np.sum(H,axis=1)+eps\n",
    "        Hsumtemp = Hsumtemp.reshape(1,-1)\n",
    "        W = W * (np.dot(V / (np.dot(W,H)+eps) , np.transpose(H))) / np.tile( Hsumtemp, (m,1))\n",
    "        \n",
    "        Wsumtemp = np.sum(W,axis=0)+eps\n",
    "        Wsumtemp = Wsumtemp.reshape(-1,1)\n",
    "        H = H * (np.dot( np.transpose(W), V / (np.dot(W,H)+eps))) / np.tile( Wsumtemp, (1,n))\n",
    "        \n",
    "        objectif[i] = np.sum(-V*(np.log((np.dot(W,H)+eps) / (V+eps))+1) + np.dot(W,H))\n",
    "        times[i] = time.time() - t_begin\n",
    "    return(W, H, objectif, times)"
   ]
  },
  {
   "cell_type": "markdown",
   "metadata": {},
   "source": [
    "## c) FPA"
   ]
  },
  {
   "cell_type": "code",
   "execution_count": 39,
   "metadata": {},
   "outputs": [],
   "source": [
    "def nmf_fpa_KL(V, W, H, N, ND):\n",
    "    \n",
    "    # ND represents the number of iteration for each ND problem\n",
    "    t_begin = time.time()\n",
    "    objectif = []\n",
    "    times = []\n",
    "    \n",
    "    m,n = np.shape(V)\n",
    "    r,_ = np.shape(H)\n",
    "    eps = 1e-7\n",
    "    Wb = W\n",
    "    Wold = W\n",
    "    Hb = H\n",
    "    Hold = H\n",
    "    C = - V / np.dot(W,H)\n",
    "    P = -np.dot(np.transpose(W),C) * np.tile(1/ np.sum(W,axis=0).reshape(-1,1),(1,n))\n",
    "    MP = np.max(P,axis=0)\n",
    "    C = C * np.tile( (1/MP).reshape(1,-1),(m,1))\n",
    "    \n",
    "    for i in range(int(N/ND)):\n",
    "        sigma = np.sqrt(n/r) * np.sum(W) / (np.linalg.norm(W) * np.sum(V,axis=0))\n",
    "        tau = np.sqrt(r/n) * np.sum(V,axis=0) / (np.linalg.norm(W) * np.sum(W))\n",
    "        \n",
    "        for j in range(ND):\n",
    "            C += np.dot(W,Hb) * np.tile(sigma.reshape(1,-1),(m,1))\n",
    "            C = 0.5 * C - 0.5 * np.sqrt(C**2 + V * 4 * np.tile(sigma.reshape(1,-1),(m,1)))\n",
    "            H = threshold( H- np.dot(np.transpose(W),C+1) * np.tile(tau.reshape(1,-1),(r,1)))\n",
    "            Hb = 2*H - Hold\n",
    "            Hold = H\n",
    "    \n",
    "        sigma = np.sqrt(m/r) * np.sum(H) / (np.linalg.norm(H) * np.sum(V,axis=1))\n",
    "        tau = np.sqrt(r/m) * np.sum(V,axis=1) / (np.linalg.norm(H) * np.sum(H))\n",
    "        \n",
    "        for j in range(ND):\n",
    "            C += np.dot(Wb,H) * np.tile(sigma.reshape(-1,1),(1,n))\n",
    "            C = 0.5 * C -0.5 * np.sqrt(C**2 + V * 4 * np.tile(sigma.reshape(-1,1),(1,n)))\n",
    "            W = threshold( W - np.dot(C+1,np.transpose(H)) * np.tile(tau.reshape(-1,1),(1,r)))\n",
    "            Wb = 2*W - Wold\n",
    "            Wold = W\n",
    "    \n",
    "        for l in range(ND):\n",
    "            objectif.append(np.sum(-V*(np.log((np.dot(W,H)+eps) / (V+eps))+1) + np.dot(W,H)))\n",
    "        times.append(time.time() - t_begin)\n",
    "    return(W, H, np.array(objectif), np.array(times))"
   ]
  },
  {
   "cell_type": "code",
   "execution_count": 48,
   "metadata": {},
   "outputs": [],
   "source": [
    "n, m, r = 200, 500, 10\n",
    "N = 1000\n",
    "\n",
    "np.random.seed(0)\n",
    "# construction of the matrices\n",
    "W = np.abs(np.random.normal(0,1,(n,r)))\n",
    "H = np.abs(np.random.normal(0,1,(r,m)))\n",
    "V = np.dot(W,H)\n",
    "\n",
    "# initialization\n",
    "Wini = np.random.rand(n,r)\n",
    "Hini = np.random.rand(r,m)"
   ]
  },
  {
   "cell_type": "code",
   "execution_count": 54,
   "metadata": {},
   "outputs": [],
   "source": [
    "## ADMM\n",
    "rho = 10\n",
    "W1,H1,objectifs1,times1 = nmf_admm_KL(V, Wini, Hini, rho, N)"
   ]
  },
  {
   "cell_type": "code",
   "execution_count": 55,
   "metadata": {},
   "outputs": [],
   "source": [
    "## MUA\n",
    "W2, H2, objectifs2, times2 = nmf_mua_KL(V, Wini, Hini, N)"
   ]
  },
  {
   "cell_type": "code",
   "execution_count": 56,
   "metadata": {},
   "outputs": [],
   "source": [
    "## FPA\n",
    "ND = 5\n",
    "W3, H3, objectifs3, times3 = nmf_fpa_KL(V, Wini, Hini, N, ND)"
   ]
  },
  {
   "cell_type": "code",
   "execution_count": 57,
   "metadata": {},
   "outputs": [
    {
     "data": {
      "image/png": "[encoded data removed]",
      "text/plain": [
       "<Figure size 432x288 with 1 Axes>"
      ]
     },
     "metadata": {
      "needs_background": "light"
     },
     "output_type": "display_data"
    }
   ],
   "source": [
    "import matplotlib.pyplot as plt\n",
    "\n",
    "plt.figure(1)\n",
    "plt.plot(np.log10(objectifs1),label='ADMM')\n",
    "plt.plot(np.log10(objectifs2),label='MUA')\n",
    "plt.plot(np.log10(objectifs3),label='FPA')\n",
    "plt.legend()\n",
    "plt.xlabel('Iterations')\n",
    "plt.ylabel('Log( Objectif = KL divergence between V and W*H )')\n",
    "plt.savefig('nmf.png')\n",
    "plt.show()"
   ]
  },
  {
   "cell_type": "code",
   "execution_count": 61,
   "metadata": {},
   "outputs": [
    {
     "data": {
      "image/png": "[encoded data removed]",
      "text/plain": [
       "<Figure size 432x288 with 1 Axes>"
      ]
     },
     "metadata": {
      "needs_background": "light"
     },
     "output_type": "display_data"
    }
   ],
   "source": [
    "plt.figure(2)\n",
    "plt.plot(np.log10(objectifs1[700:]),label='ADMM')\n",
    "plt.plot(np.log10(objectifs2[700:]),label='MUA')\n",
    "plt.plot(np.log10(objectifs3[700:]),label='FPA')\n",
    "plt.legend()\n",
    "plt.xlabel('Iterations')\n",
    "plt.ylabel('Log( Objectif = KL divergence between V and W*H )')\n",
    "plt.savefig('nmf_precis.png')\n",
    "plt.show()"
   ]
  },
  {
   "cell_type": "code",
   "execution_count": null,
   "metadata": {},
   "outputs": [],
   "source": []
  }
 ],
 "metadata": {
  "kernelspec": {
   "display_name": "Python 3",
   "language": "python",
   "name": "python3"
  },
  "language_info": {
   "codemirror_mode": {
    "name": "ipython",
    "version": 3
   },
   "file_extension": ".py",
   "mimetype": "text/x-python",
   "name": "python",
   "nbconvert_exporter": "python",
   "pygments_lexer": "ipython3",
   "version": "3.6.5"
  }
 },
 "nbformat": 4,
 "nbformat_minor": 2
}
